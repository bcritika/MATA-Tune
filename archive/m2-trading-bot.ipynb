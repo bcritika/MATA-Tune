{
 "cells": [
  {
   "cell_type": "code",
   "execution_count": 10,
   "metadata": {},
   "outputs": [],
   "source": [
    "import pandas as pd\n",
    "import matplotlib.pyplot as plt\n",
    "import yfinance as yf\n",
    "import ibapi\n",
    "from ibapi.client import EClient\n",
    "from ibapi.wrapper import EWrapper"
   ]
  },
  {
   "cell_type": "code",
   "execution_count": 5,
   "metadata": {},
   "outputs": [
    {
     "name": "stderr",
     "output_type": "stream",
     "text": [
      "[*********************100%***********************]  1 of 1 completed"
     ]
    },
    {
     "name": "stdout",
     "output_type": "stream",
     "text": [
      "Portfolio Summary:\n",
      "Cash: $10000.00\n",
      "Stock Balance: 0 shares\n",
      "Portfolio Value: $10000.00\n"
     ]
    },
    {
     "name": "stderr",
     "output_type": "stream",
     "text": [
      "\n"
     ]
    }
   ],
   "source": [
    "class StockTradingBot:\n",
    "    def __init__(self, symbol, short_window, long_window, initial_cash):\n",
    "        self.symbol = symbol\n",
    "        self.short_window = short_window\n",
    "        self.long_window = long_window\n",
    "        self.cash = initial_cash\n",
    "        self.stock_balance = 0\n",
    "        self.history = []\n",
    "\n",
    "    def get_stock_data(self, start_date, end_date):\n",
    "        data = yf.download(self.symbol, start=start_date, end=end_date)\n",
    "        return data\n",
    "\n",
    "    def calculate_sma(self, data, window):\n",
    "        return data['Close'].rolling(window=window).mean()\n",
    "\n",
    "    def buy(self, price, amount):\n",
    "        total_cost = price * amount\n",
    "        if self.cash >= total_cost:\n",
    "            self.cash -= total_cost\n",
    "            self.stock_balance += amount\n",
    "            self.history.append(f\"Bought {amount} shares at ${price:.2f} each\")\n",
    "\n",
    "    def sell(self, price, amount):\n",
    "        if self.stock_balance >= amount:\n",
    "            total_sale = price * amount\n",
    "            self.cash += total_sale\n",
    "            self.stock_balance -= amount\n",
    "            self.history.append(f\"Sold {amount} shares at ${price:.2f} each\")\n",
    "\n",
    "    def execute_strategy(self, data):\n",
    "        short_sma = self.calculate_sma(data, self.short_window)\n",
    "        long_sma = self.calculate_sma(data, self.long_window)\n",
    "\n",
    "        for i in range(self.long_window, len(data)):\n",
    "            if short_sma.iloc[i] > long_sma.iloc[i]:  # Buy signal\n",
    "                self.buy(data['Close'].iloc[i], 10)  # Example: Buy 10 shares\n",
    "            elif short_sma.iloc[i] < long_sma.iloc[i]:  # Sell signal\n",
    "                self.sell(data['Close'].iloc[i], 10)  # Example: Sell 10 shares\n",
    "\n",
    "    def run(self):\n",
    "        data = self.get_stock_data(\"2022-01-01\", \"2023-01-01\")  # Adjust date range as needed\n",
    "        self.execute_strategy(data)\n",
    "        self.display_portfolio(data)\n",
    "\n",
    "    def display_portfolio(self, data):\n",
    "        print(\"Portfolio Summary:\")\n",
    "        print(f\"Cash: ${self.cash:.2f}\")\n",
    "        print(f\"Stock Balance: {self.stock_balance} shares\")\n",
    "        print(f\"Portfolio Value: ${(self.cash + self.stock_balance * data['Close'].iloc[-1]):.2f}\")\n",
    "\n",
    "if __name__ == \"__main__\":\n",
    "    bot = StockTradingBot(symbol=\"AAPL\", short_window=50, long_window=200, initial_cash=10000)\n",
    "    bot.run()"
   ]
  },
  {
   "cell_type": "code",
   "execution_count": 11,
   "metadata": {},
   "outputs": [],
   "source": [
    "class IBApi(EWrapper, EClient):\n",
    "\n",
    "    def __init__(self):\n",
    "        EClient.__init__(self, self)\n",
    "\n",
    "class Bot:\n",
    "    ib = None\n",
    "    def __init__(self):\n",
    "        ib = IBApi()\n",
    "\n",
    "bot = Bot()"
   ]
  },
  {
   "cell_type": "code",
   "execution_count": null,
   "metadata": {},
   "outputs": [],
   "source": []
  }
 ],
 "metadata": {
  "kernelspec": {
   "display_name": "mtune_env",
   "language": "python",
   "name": "python3"
  },
  "language_info": {
   "codemirror_mode": {
    "name": "ipython",
    "version": 3
   },
   "file_extension": ".py",
   "mimetype": "text/x-python",
   "name": "python",
   "nbconvert_exporter": "python",
   "pygments_lexer": "ipython3",
   "version": "3.12.1"
  }
 },
 "nbformat": 4,
 "nbformat_minor": 2
}
