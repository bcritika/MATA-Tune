{
 "cells": [
  {
   "cell_type": "code",
   "execution_count": 2,
   "metadata": {},
   "outputs": [
    {
     "name": "stdout",
     "output_type": "stream",
     "text": [
      "$200000 is available as buying power.\n"
     ]
    }
   ],
   "source": [
    "from alpaca.trading.client import TradingClient\n",
    "from alpaca.trading.requests import GetAssetsRequest\n",
    "\n",
    "trading_client = TradingClient()\n",
    "\n",
    "# Get our account information.\n",
    "account = trading_client.get_account()\n",
    "\n",
    "# Check if our account is restricted from trading.\n",
    "if account.trading_blocked:\n",
    "    print('Account is currently restricted from trading.')\n",
    "\n",
    "# Check how much money we can use to open new positions.\n",
    "print('${} is available as buying power.'.format(account.buying_power))"
   ]
  },
  {
   "cell_type": "code",
   "execution_count": null,
   "metadata": {},
   "outputs": [],
   "source": []
  }
 ],
 "metadata": {
  "kernelspec": {
   "display_name": "mtune_env",
   "language": "python",
   "name": "python3"
  },
  "language_info": {
   "codemirror_mode": {
    "name": "ipython",
    "version": 3
   },
   "file_extension": ".py",
   "mimetype": "text/x-python",
   "name": "python",
   "nbconvert_exporter": "python",
   "pygments_lexer": "ipython3",
   "version": "3.12.1"
  }
 },
 "nbformat": 4,
 "nbformat_minor": 2
}
