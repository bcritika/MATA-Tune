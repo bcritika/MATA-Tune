{
 "cells": [
  {
   "cell_type": "code",
   "execution_count": 1,
   "metadata": {},
   "outputs": [],
   "source": [
    "import yfinance as yf\n",
    "import pandas as pd\n",
    "import numpy as np\n",
    "\n",
    "from alpaca.trading.client import TradingClient\n",
    "from alpaca.trading.requests import GetAssetsRequest\n",
    "from alpaca.trading.enums import AssetClass"
   ]
  },
  {
   "cell_type": "code",
   "execution_count": null,
   "metadata": {},
   "outputs": [
    {
     "ename": "SyntaxError",
     "evalue": "invalid syntax (3706416480.py, line 2)",
     "output_type": "error",
     "traceback": [
      "\u001b[1;36m  Cell \u001b[1;32mIn[2], line 2\u001b[1;36m\u001b[0m\n\u001b[1;33m    secret =\u001b[0m\n\u001b[1;37m             ^\u001b[0m\n\u001b[1;31mSyntaxError\u001b[0m\u001b[1;31m:\u001b[0m invalid syntax\n"
     ]
    }
   ],
   "source": [
    "key = \"PKNXRGRC2A6PAVABSRKP\"\n",
    "secret = \"NjfSwiQ3lb431zYfyPRaCA2PfTAhySdMV6M1Ot0S\"\n",
    "trading_client = TradingClient(key, secret,paper=True)\n",
    "\n",
    "\n",
    "def signal_generator(df):\n",
    "    barTimeframe = \"1H\" # 1Min, 5Min, 15Min, 1H, 1D\n",
    "    assetsToDownload = [\"SPY\",\"MSFT\",\"AAPL\",\"NFLX\"]\n",
    "    startDate = \"2017-01-01T00:00:00.000Z\" # Start date for the market data in ISO8601 format\n",
    "\n",
    "    # Tracks position in list of symbols to download\n",
    "    iteratorPos = 0 \n",
    "    assetListLen = len(assetsToDownload)\n",
    "\n",
    "\n",
    "\n",
    "signal = []\n",
    "signal.append(0)\n",
    "for i in range(1,len(dataF)):\n",
    "    df = dataF[i-1:i+1]\n",
    "    signal.append(signal_generator(df))\n",
    "#signal_generator(data)\n",
    "dataF[\"signal\"] = signal\n",
    "\n",
    "\n",
    "def trading_job(df):\n"
   ]
  },
  {
   "cell_type": "code",
   "execution_count": null,
   "metadata": {},
   "outputs": [
    {
     "ename": "NameError",
     "evalue": "name 'dataF' is not defined",
     "output_type": "error",
     "traceback": [
      "\u001b[1;31m---------------------------------------------------------------------------\u001b[0m",
      "\u001b[1;31mNameError\u001b[0m                                 Traceback (most recent call last)",
      "Cell \u001b[1;32mIn[3], line 21\u001b[0m\n\u001b[0;32m     18\u001b[0m         \u001b[38;5;28;01mreturn\u001b[39;00m \u001b[38;5;241m0\u001b[39m  \u001b[38;5;66;03m# Hold\u001b[39;00m\n\u001b[0;32m     20\u001b[0m \u001b[38;5;66;03m# Applying the signal generator to the DataFrame\u001b[39;00m\n\u001b[1;32m---> 21\u001b[0m \u001b[43mdataF\u001b[49m[\u001b[38;5;124m\"\u001b[39m\u001b[38;5;124msignal\u001b[39m\u001b[38;5;124m\"\u001b[39m] \u001b[38;5;241m=\u001b[39m \u001b[38;5;241m0\u001b[39m  \u001b[38;5;66;03m# Initialize signal column\u001b[39;00m\n\u001b[0;32m     23\u001b[0m \u001b[38;5;28;01mfor\u001b[39;00m i \u001b[38;5;129;01min\u001b[39;00m \u001b[38;5;28mrange\u001b[39m(\u001b[38;5;241m200\u001b[39m, \u001b[38;5;28mlen\u001b[39m(dataF)):\n\u001b[0;32m     24\u001b[0m     df_subset \u001b[38;5;241m=\u001b[39m dataF\u001b[38;5;241m.\u001b[39miloc[:i \u001b[38;5;241m+\u001b[39m \u001b[38;5;241m1\u001b[39m]  \u001b[38;5;66;03m# Subset up to the current index\u001b[39;00m\n",
      "\u001b[1;31mNameError\u001b[0m: name 'dataF' is not defined"
     ]
    }
   ],
   "source": [
    "import pandas as pd\n",
    "\n",
    "# Function to calculate the 200-day moving average crossover signals\n",
    "def signal_generator(df):\n",
    "    if len(df) < 200:\n",
    "        return 0  # No signal if insufficient data\n",
    "\n",
    "    # Calculate the 200-day moving average\n",
    "    df[\"SMA_200\"] = df[\"Close\"].rolling(window=200).mean()\n",
    "\n",
    "    # Generate signals: 1 for buy, -1 for sell, 0 for hold\n",
    "    if df.iloc[-2][\"Close\"] < df.iloc[-2][\"SMA_200\"] and df.iloc[-1][\"Close\"] > df.iloc[-1][\"SMA_200\"]:\n",
    "        return 1  # Buy signal\n",
    "    elif df.iloc[-2][\"Close\"] > df.iloc[-2][\"SMA_200\"] and df.iloc[-1][\"Close\"] < df.iloc[-1][\"SMA_200\"]:\n",
    "        return -1  # Sell signal\n",
    "    else:\n",
    "        return 0  # Hold\n",
    "\n",
    "dataF[\"signal\"] = 0  # Initialize signal column\n",
    "\n",
    "for i in range(200, len(dataF)):\n",
    "    df_subset = dataF.iloc[:i + 1]  # Subset up to the current index\n",
    "    dataF.loc[i, \"signal\"] = signal_generator(df_subset)\n",
    "\n",
    "# Function to simulate a trading job\n",
    "def trading_job(df):\n",
    "    cash = 10000  # Starting cash\n",
    "    position = 0  # Current position (number of shares)\n",
    "    trade_log = []  # Log of trades\n",
    "\n",
    "    for index, row in df.iterrows():\n",
    "        if row[\"signal\"] == 1:  # Buy signal\n",
    "            if cash > row[\"Close\"]:\n",
    "                position = cash // row[\"Close\"]\n",
    "                cash -= position * row[\"Close\"]\n",
    "                trade_log.append(f\"Buy {position} shares at {row['Close']} on {index}\")\n",
    "        elif row[\"signal\"] == -1:  # Sell signal\n",
    "            if position > 0:\n",
    "                cash += position * row[\"Close\"]\n",
    "                trade_log.append(f\"Sell {position} shares at {row['Close']} on {index}\")\n",
    "                position = 0\n",
    "\n",
    "    # Final portfolio value\n",
    "    final_value = cash + position * df.iloc[-1][\"Close\"]\n",
    "    trade_log.append(f\"Final portfolio value: {final_value}\")\n",
    "    return trade_log\n",
    "\n",
    "# Example usage\n",
    "# Assuming `dataF` contains historical price data with a \"Close\" column\n",
    "trade_log = trading_job(dataF)\n",
    "\n",
    "# Print trade log\n",
    "for entry in trade_log:\n",
    "    print(entry)\n"
   ]
  },
  {
   "cell_type": "code",
   "execution_count": null,
   "metadata": {},
   "outputs": [],
   "source": []
  }
 ],
 "metadata": {
  "kernelspec": {
   "display_name": "mtune_env",
   "language": "python",
   "name": "python3"
  },
  "language_info": {
   "codemirror_mode": {
    "name": "ipython",
    "version": 3
   },
   "file_extension": ".py",
   "mimetype": "text/x-python",
   "name": "python",
   "nbconvert_exporter": "python",
   "pygments_lexer": "ipython3",
   "version": "3.12.1"
  }
 },
 "nbformat": 4,
 "nbformat_minor": 2
}
