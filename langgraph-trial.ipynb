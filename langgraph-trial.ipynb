{
 "cells": [
  {
   "cell_type": "code",
   "execution_count": 17,
   "id": "159750d2",
   "metadata": {},
   "outputs": [
    {
     "data": {
      "text/plain": [
       "True"
      ]
     },
     "execution_count": 17,
     "metadata": {},
     "output_type": "execute_result"
    }
   ],
   "source": [
    "import pandas as pd\n",
    "import numpy as np\n",
    "import langgraph\n",
    "import langchain\n",
    "from langgraph.graph import StateGraph, END\n",
    "from typing import TypedDict\n",
    "import requests\n",
    "import os\n",
    "from dotenv import load_dotenv\n",
    "\n",
    "load_dotenv()"
   ]
  },
  {
   "cell_type": "code",
   "execution_count": null,
   "id": "9081ef28",
   "metadata": {},
   "outputs": [],
   "source": [
    "class EconomicIndicators:\n",
    "    def __init__(self):\n",
    "        # pull API key from env\n",
    "        self.api_key = os.getenv(\"FRED_KEY\")\n",
    "        \n",
    "        # store indicators (initialized as None)\n",
    "        self.m2 = None\n",
    "        self.unemployment = None\n",
    "        self.gdp = None\n",
    "        self.consumer_spending = None\n",
    "        self.usd_strength = None\n",
    "\n",
    "    def _fetch_from_fred(self, series_id):\n",
    "        \"\"\"Helper: fetch latest value from FRED\"\"\"\n",
    "        url = (\n",
    "            f\"https://api.stlouisfed.org/fred/series/observations?\"\n",
    "            f\"series_id={series_id}&api_key={self.api_key}&file_type=json\"\n",
    "        )\n",
    "        resp = requests.get(url).json()\n",
    "        if resp.get(\"observations\"):\n",
    "            return float(resp[\"observations\"][-1][\"value\"])\n",
    "        return None\n",
    "\n",
    "    # Getters for each indicator\n",
    "    def get_m2(self):\n",
    "        if self.m2 is None:\n",
    "            self.m2 = self._fetch_from_fred(\"M2SL\")  # Money supply\n",
    "        return self.m2\n",
    "\n",
    "    def get_unemployment(self):\n",
    "        if self.unemployment is None:\n",
    "            self.unemployment = self._fetch_from_fred(\"UNRATE\")\n",
    "        return self.unemployment\n",
    "\n",
    "    def get_gdp(self):\n",
    "        if self.gdp is None:\n",
    "            self.gdp = self._fetch_from_fred(\"A191RL1Q225SBEA\")  # Real GDP growth\n",
    "        return self.gdp\n",
    "\n",
    "    def get_consumer_spending(self):\n",
    "        if self.consumer_spending is None:\n",
    "            self.consumer_spending = self._fetch_from_fred(\"PCE\")  # Personal Consumption Expenditures\n",
    "        return self.consumer_spending\n",
    "\n",
    "    def get_usd_strength(self):\n",
    "        if self.usd_strength is None:\n",
    "            dxy = yf.Ticker(\"DX-Y.NYB\")  # Dollar Index\n",
    "            hist = dxy.history(period=\"1mo\")\n",
    "            self.usd_strength = hist[\"Close\"].iloc[-1]\n",
    "        return self.usd_strength\n",
    "\n",
    "    def get_all(self):\n",
    "        \"\"\"Return all indicators in one dict\"\"\"\n",
    "        return {\n",
    "            \"m2\": self.get_m2(),\n",
    "            \"unemployment\": self.get_unemployment(),\n",
    "            \"gdp\": self.get_gdp(),\n",
    "            \"consumer_spending\": self.get_consumer_spending(),\n",
    "            \"usd_strength\": self.get_usd_strength()\n",
    "        }\n"
   ]
  },
  {
   "cell_type": "code",
   "execution_count": null,
   "id": "2399932d",
   "metadata": {},
   "outputs": [
    {
     "name": "stdout",
     "output_type": "stream",
     "text": [
      "{'indicators': {}}\n"
     ]
    }
   ],
   "source": [
    "api"
   ]
  }
 ],
 "metadata": {
  "kernelspec": {
   "display_name": "mtune_env",
   "language": "python",
   "name": "python3"
  },
  "language_info": {
   "codemirror_mode": {
    "name": "ipython",
    "version": 3
   },
   "file_extension": ".py",
   "mimetype": "text/x-python",
   "name": "python",
   "nbconvert_exporter": "python",
   "pygments_lexer": "ipython3",
   "version": "3.13.1"
  }
 },
 "nbformat": 4,
 "nbformat_minor": 5
}
